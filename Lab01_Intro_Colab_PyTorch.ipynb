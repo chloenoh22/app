{
  "cells": [
    {
      "cell_type": "markdown",
      "metadata": {
        "id": "view-in-github",
        "colab_type": "text"
      },
      "source": [
        "<a href=\"https://colab.research.google.com/github/chloenoh22/app/blob/main/Lab01_Intro_Colab_PyTorch.ipynb\" target=\"_parent\"><img src=\"https://colab.research.google.com/assets/colab-badge.svg\" alt=\"Open In Colab\"/></a>"
      ]
    },
    {
      "cell_type": "markdown",
      "metadata": {
        "id": "mCiduPpa0PA1"
      },
      "source": [
        "[![Open In Colab](https://colab.research.google.com/assets/colab-badge.svg)](https://colab.research.google.com/github/hendersonneurolab/CogAI_Fall2025/blob/master/Lab01_Intro_Colab_PyTorch.ipynb)\n",
        "\n",
        "## Week 1: Introduction to course tools\n",
        "\n",
        "Welcome to the first lab exercise! This week, we'll get acquainted with Google Colab. We'll also learn some basics of PyTorch, which we'll come back to in the next few labs.\n",
        "\n",
        "**Learning objectives:**\n",
        "- Understand how to use Colab, and how to save/submit your lab assignments for this course.\n",
        "- Start to get basic familiarity with PyTorch.\n",
        "\n"
      ]
    },
    {
      "cell_type": "markdown",
      "source": [
        "#Part 1: Intro to Colab"
      ],
      "metadata": {
        "id": "twP6xiZPLvKF"
      }
    },
    {
      "cell_type": "markdown",
      "source": [
        "### About Colab\n",
        "\n",
        "- Google Colab is a cloud-based platform that enables us to run Python code directly in our web browser. It's convenient because it means we do not need to download Python or create an environment to execute our code -- all we need is an internet connection.\n",
        "\n",
        "- Tips: Colab recommends using the newest version of Chrome, Firefox, or Safari browser for best results. I've tested these course notebooks using Chrome.\n",
        "\n",
        "- The notebooks you run in Colab are the same format as Jupyter notebooks (https://jupyter.org/). They will have the file extension: \".ipynb\".\n",
        "\n",
        "- You may have come across Jupyter notebooks in previous courses. The difference with Colab is that we're running the notebook \"in the cloud\", not on our local computer. But the files are the same kind. If you download any of our course Colab files (.ipynb) to your own computer, you can open them just like any other Jupyter notebook file.\n",
        "\n",
        "- You don't need to subscribe to a paid plan, but all students can sign up for a free [Colab Pro account](https://colab.research.google.com/signup?utm_source=dialog&utm_medium=link&utm_campaign=too_many_sessions&authuser=1). This will provide better compute resources and prevent your sessions from timing out."
      ],
      "metadata": {
        "id": "sQwAMrLN4YhF"
      }
    },
    {
      "cell_type": "markdown",
      "source": [
        "### How to use notebooks\n",
        "\n",
        "A notebook is comprised of \"cells\".  A given cell can contain different types of things, such as text, code, or images. This is one of the best features of notebooks, because they let us include details and illustrations right alongside our code.\n",
        "\n",
        "We will concern ourselves with cells that contain either text (markdown), or Python code.  \n",
        "\n",
        "To make new cells, use the menu buttons:\n",
        "\n",
        "`+ Code`\n",
        "\n",
        "`+ Text`\n",
        "\n"
      ],
      "metadata": {
        "id": "8Rnx6bL16j8l"
      }
    },
    {
      "cell_type": "markdown",
      "metadata": {
        "id": "KR921S_OQSHG"
      },
      "source": [
        "#### Code cells\n",
        "Below is a **code cell**. Click in the cell to select it. You can edit the code directly. You can execute the contents in the following ways:\n",
        "\n",
        "* Click the **Play icon** in the left gutter of the cell;\n",
        "* Type **Cmd/Ctrl+Enter** to run the cell in place;\n",
        "* Type **Shift+Enter** to run the cell and move focus to the next cell (adding one if none exists); or\n",
        "* Type **Alt+Enter** to run the cell and insert a new code cell immediately below it.\n",
        "\n",
        "There are additional options for running some or all cells in the **Runtime** menu.\n"
      ]
    },
    {
      "cell_type": "code",
      "execution_count": null,
      "metadata": {
        "cellView": "both",
        "id": "WUtu4316QSHL"
      },
      "outputs": [],
      "source": [
        "a = 10\n",
        "a"
      ]
    },
    {
      "cell_type": "markdown",
      "source": [
        "#### Text (Markdown) Cells\n",
        "\n",
        "Markdown is a way of specifying text formatting in plain text.\n",
        "\n",
        "To edit a markdown cell (like this one!), double click or hit \"enter\". You'll see the markdown that tells jupyter how to format the text you're reading.\n",
        "\n",
        "For example, this cell starts with the text `### Text (Markdown) Cells` which tells the computer that it should display a level 3 heading.  You can also do things like:\n",
        "\n",
        "Use a `-` to create a bulleted list:\n",
        "\n",
        "- List item 1\n",
        "- List item 2\n",
        "\n",
        "Use `**` around text to write your text in **bold font**\n",
        "\n",
        "To learn more, see this guide: https://colab.research.google.com/notebooks/markdown_guide.ipynb\n",
        "\n",
        "When you're done editing, hit **Cmd/Ctrl+Enter** to execute the cell and to render the text.\n",
        "\n",
        "\n"
      ],
      "metadata": {
        "id": "f2IP5OQ5Uz4A"
      }
    },
    {
      "cell_type": "markdown",
      "source": [
        "## How the lab assignments will work\n",
        "\n",
        "- The labs for this course will be \"tutorial\" style. A lot of the code will be provided for you, and you'll be required to read through and execute each code block yourself. Make sure you read through the text, code and comments carefully, as you go along.\n",
        "\n",
        "- You'll also be asked to answer questions throughout the notebook. These will include either writing some code yourself, or answering a question in written form.\n",
        "- Tip: Try using \"ctrl-f\" in the notebook to search for \"Question\". This will help you check that you found all the question prompts.\n",
        "- Finally, you'll submit your finished notebook file on Canvas (see next section).\n",
        "- Here's an example question for you to start with:"
      ],
      "metadata": {
        "id": "8h6KFkbCMI3L"
      }
    },
    {
      "cell_type": "markdown",
      "source": [
        "\n",
        "\n",
        "---\n",
        "\n",
        "***Question 1:***\n",
        "\n",
        "Make a new CODE block (below this), and write and execute code to compute the following expression.\n",
        "\n",
        "(15 x 2)^3 + 62 + (315 / 105) - 1 = ?"
      ],
      "metadata": {
        "id": "BJ3U3QC6JSeS"
      }
    },
    {
      "cell_type": "markdown",
      "source": [
        "\n",
        "\n",
        "---\n",
        "\n"
      ],
      "metadata": {
        "id": "3oiROYwbNaHn"
      }
    },
    {
      "cell_type": "code",
      "source": [
        "def findSolution():\n",
        "  return (15 * 2)**3 + 62 + (315 / 105) - 1\n",
        "\n",
        "print(findSolution())"
      ],
      "metadata": {
        "colab": {
          "base_uri": "https://localhost:8080/"
        },
        "id": "VzsWXCGoTwyJ",
        "outputId": "2267145a-520d-4275-b3c3-a3342c852b89"
      },
      "execution_count": 5,
      "outputs": [
        {
          "output_type": "stream",
          "name": "stdout",
          "text": [
            "27064.0\n"
          ]
        }
      ]
    },
    {
      "cell_type": "markdown",
      "source": [
        "\n",
        "\n",
        "---\n",
        "\n",
        "***Question 2:***\n",
        "\n",
        "Make a new TEXT block (below this), and write out in words the answer to your expression above.\n"
      ],
      "metadata": {
        "id": "3w7k3xv5ODIR"
      }
    },
    {
      "cell_type": "markdown",
      "source": [
        "\n",
        "\n",
        "---\n",
        "\n"
      ],
      "metadata": {
        "id": "NXzr312FODIS"
      }
    },
    {
      "cell_type": "markdown",
      "source": [
        "twenty-seven thousand and sixty four"
      ],
      "metadata": {
        "id": "uxCCJAq_T-MQ"
      }
    },
    {
      "cell_type": "markdown",
      "source": [
        "## How to open, save and submit your lab assignment files\n",
        "\n",
        "1. Navigate to the lab assignment files in the class GitHub page (https://github.com/hendersonneurolab/CogAI_Fall2025). In the assignment for this week, click the banner \"Open in Colab\" at the very top.\n",
        "\n",
        "2. Colab will open with your notebook file.\n",
        "\n",
        "3. In the top left, click \"File > Save a copy in Drive\"\n",
        "  - IMPORTANT: every time you first open a new Colab notebook, it does not immediately get saved. You need to go through the \"File > Save a Copy in Drive\" step, in order to save your changes.\n",
        "\n",
        "4. The filename in the top left changes to \"Copy of...\". Change this filename to something more informative, like \"Lab01_Intro_Maggie.ipynb\", or whatever you want.\n",
        "\n",
        "4. In the top left, click \"File > Locate in Drive\"\n",
        "\n",
        "5. A new tab opens, with your Google Drive storage. By default, Colab saves files to a folder: \"My Drive/Colab Notebooks\". You can create a subfolder in here called \"CogAI\" and move your course notebooks into it, to keep your files organized.\n",
        "\n",
        "6. To download / submit: click the three dots to the right of the file name, and click \"Download\". Save the file to your computer, then upload it to Canvas.\n",
        "\n",
        "7. As you're working on the lab assignment, remember to save periodically (\"File > Save\"), as your work won't automatically be auto-saved.\n",
        "\n"
      ],
      "metadata": {
        "id": "SGaRZwXi_heT"
      }
    },
    {
      "cell_type": "markdown",
      "source": [
        "## Accessing Drive storage from Colab\n",
        "\n",
        "Sometimes we'll want to access files (such as images) that are located on Google Drive, from within Colab. To do this, we'll mount our Google Drive folder in the Colab notebook. Run the below code to try this.\n",
        "\n",
        "When you run the \"drive.mount\" command, you'll see a popup window asking you to grant permissions for Colab to access your Google Drive files. Read through this prompt and enable the required permissions."
      ],
      "metadata": {
        "id": "WoZmDWdoGJu3"
      }
    },
    {
      "cell_type": "code",
      "source": [
        "# First, mount your Google Drive (if not already mounted)\n",
        "import os\n",
        "from google.colab import drive\n",
        "drive.mount('/content/drive')\n",
        "\n",
        "# Navigate to the Colab Notebooks folder\n",
        "colab_notebooks_path = '/content/drive/MyDrive/Colab Notebooks/'\n",
        "\n",
        "os.chdir(colab_notebooks_path)\n",
        "# Verify you're in the right directory\n",
        "print(\"Current working directory:\", os.getcwd())\n",
        "print(\"Files in this directory:\")\n",
        "for file in os.listdir('.'):\n",
        "    print(f\"  {file}\")\n"
      ],
      "metadata": {
        "id": "ogFFeKys_YgO"
      },
      "execution_count": null,
      "outputs": []
    },
    {
      "cell_type": "markdown",
      "source": [
        "To demonstrate this storage, let's download an example image.\n"
      ],
      "metadata": {
        "id": "DgF1_sA8IPz8"
      }
    },
    {
      "cell_type": "code",
      "source": [
        "# Helper function for downloading:\n",
        "\n",
        "def download_image(url, filepath):\n",
        "    try:\n",
        "        headers = {\n",
        "              'User-Agent': 'Mozilla/5.0 (Windows NT 10.0; Win64; x64) AppleWebKit/537.36'\n",
        "          }\n",
        "        response = requests.get(url, headers=headers, timeout=10)\n",
        "        response.raise_for_status()  # Raises exception for bad status codes\n",
        "\n",
        "        # Verify it's an image\n",
        "        content_type = response.headers.get('content-type', '')\n",
        "        if not content_type.startswith('image/'):\n",
        "            print(f\"Warning: Content-Type is {content_type}, not an image\")\n",
        "            return False\n",
        "\n",
        "        with open(filepath, 'wb') as f:\n",
        "            f.write(response.content)\n",
        "\n",
        "        # Verify file size\n",
        "        if os.path.getsize(filepath) < 100:  # Very small files are likely errors\n",
        "            print(\"Warning: Downloaded file is suspiciously small\")\n",
        "            return False\n",
        "\n",
        "        return True\n",
        "\n",
        "    except requests.exceptions.RequestException as e:\n",
        "        print(f\"Request failed: {e}\")\n",
        "        return False"
      ],
      "metadata": {
        "id": "jan3ar4hAZAY"
      },
      "execution_count": null,
      "outputs": []
    },
    {
      "cell_type": "code",
      "source": [
        "# First let's create a folder for it.\n",
        "\n",
        "import requests\n",
        "import os\n",
        "\n",
        "# Making a subfolder for this course\n",
        "os.makedirs('CogAI', exist_ok=True)\n",
        "os.makedirs('CogAI/images', exist_ok=True)\n",
        "\n",
        "images_folder = os.path.join(colab_notebooks_path, 'CogAI', 'images')\n",
        "print(images_folder)\n",
        "\n",
        "# Your image URL\n",
        "image_urls = [\"https://media.4-paws.org/9/c/9/7/9c97c38666efa11b79d94619cc1db56e8c43d430/Molly_006-2829x1886-2726x1886-1920x1328.jpg\", \\\n",
        "              \"https://t3.ftcdn.net/jpg/02/36/99/22/360_F_236992283_sNOxCVQeFLd5pdqaKGh8DRGMZy7P4XKm.jpg\"]\n",
        "names = ['Cat1.jpg','Cat2.jpg']\n",
        "\n",
        "for url, name in zip(image_urls, names):\n",
        "\n",
        "  # filename = url.split(os.sep)[-1]\n",
        "  file_path = os.path.join(images_folder, name)\n",
        "\n",
        "  file_path = os.path.join(images_folder, name)\n",
        "  print(file_path)\n",
        "  success = download_image(url, file_path)\n",
        "  print('Success = %s'%success)\n"
      ],
      "metadata": {
        "id": "aBDJ2MXOmkV2"
      },
      "execution_count": null,
      "outputs": []
    },
    {
      "cell_type": "markdown",
      "source": [
        "### Verify this worked\n",
        "\n",
        "Navigate to: https://drive.google.com/drive/my-drive\n",
        "\n",
        "Then navigate to \"Colab Notebooks > CogAI > images\"\n",
        "- This is a folder we created automatically, in the code block above.\n",
        "\n",
        "In this folder, you should see the image files we just downloaded.\n",
        "\"Cat1.jpg\", \"Cat2.jpg\"\n",
        "\n",
        "Tip: if you have multiple google accounts (like gmail and CMU, for example), the Drive storage is separate for each account. Make sure that you're viewing the Colab Notebooks folder from the same account you're running the Lab01 notebook in."
      ],
      "metadata": {
        "id": "BncfBeUJHijW"
      }
    },
    {
      "cell_type": "markdown",
      "source": [
        "### Load and view an image\n",
        "\n",
        "Now we'll try loading the image we just downloaded, and visualize it. We will use the Pillow library for image processing, and matplotlib for making plots. Notice how these packages are already installed, no need for pip or conda. Sometimes for fancier packages, we'll need to install them from within Colab, but the basic ones are ready to go."
      ],
      "metadata": {
        "id": "rTO9mZPGYs0U"
      }
    },
    {
      "cell_type": "code",
      "source": [
        "import PIL\n",
        "import matplotlib.pyplot as plt\n",
        "\n",
        "plt.figure()\n",
        "fn = '/content/drive/MyDrive/Colab Notebooks/CogAI/images/Cat1.jpg'\n",
        "im = PIL.Image.open(fn)\n",
        "plt.imshow(im)\n",
        "\n",
        "plt.figure()\n",
        "fn = '/content/drive/MyDrive/Colab Notebooks/CogAI/images/Cat2.jpg'\n",
        "im = PIL.Image.open(fn)\n",
        "plt.imshow(im)"
      ],
      "metadata": {
        "id": "gRntGlUkYB-u"
      },
      "execution_count": null,
      "outputs": []
    },
    {
      "cell_type": "markdown",
      "source": [
        "If you want to work with other files, you can upload them directly to drive. For example if you upload an image to the \"images\" folder, you can load it by modifying the above code."
      ],
      "metadata": {
        "id": "Jr79xKEBZwlq"
      }
    },
    {
      "cell_type": "markdown",
      "source": [
        "## More tips and tricks"
      ],
      "metadata": {
        "id": "RMAs7IIwRe7j"
      }
    },
    {
      "cell_type": "markdown",
      "metadata": {
        "id": "aV7ZGIz50PA6"
      },
      "source": [
        "### Notebook navigation\n",
        "\n",
        "Notebooks are \"modal\" in the sense that you can be in different modes.  If you are in \"edit\" mode, you are editing the content of a given cell.  If you are in \"command\" mode then you might create new cells, change their type, rearrange them, etc.\n",
        "\n",
        "You can enter command mode by hitting \"escape\".  Then you can navigate with the arrow keys, or by clicking on particular cells.  \n",
        "\n",
        "You can enter \"edit\" mode in a given cell by pressing the \"enter/return\" key.  \n",
        "\n",
        "When in edit mode, you can press `Shift + enter` or `command (or control) + enter` (e.g. hold down the command key and press enter) to execute the cell, and exit edit mode.\n",
        "\n",
        "In command mode, you can press \"H\" to see a list of keyboard shortcuts, or you can press \"cmd + shift + f\" to enter the command pallette, where you can search for all the commands available to you.\n",
        "\n"
      ]
    },
    {
      "cell_type": "markdown",
      "source": [
        "\n",
        "### Shortcuts\n",
        "\n",
        "There is a lot of extended functionality to notebook navigation and execution, but here are a few handy shortcuts:\n",
        "\n",
        "* `escape + b` - create a new cell below the current cell\n",
        "* `escape + a` - create a new cell above the current cell\n",
        "* `escape + m` - convert to a markdown cell\n",
        "* `escape + y` - convert to a code cell\n",
        "\n"
      ],
      "metadata": {
        "id": "eR4hwtsgX1sW"
      }
    },
    {
      "cell_type": "markdown",
      "source": [
        "\n",
        "### Sections\n",
        "\n",
        "In the top left of the page, click the three lines icon to open the \"Table of Contents\" for this document. This will help us jump through different sections more easily.\n",
        "\n"
      ],
      "metadata": {
        "id": "ChWDCCSRX2hv"
      }
    },
    {
      "cell_type": "markdown",
      "source": [
        "# Part 2: Intro to PyTorch\n",
        "\n",
        "PyTorch is a library for machine learning in Python. It's very widely used for creating and training neural networks. PyTorch includes a lot of convenient functionalities for constructing neural networks, feeding data into them, and performing the math required to train them.\n",
        "\n",
        "- In this course: you won't be responsible for learning every detail of PyTorch usage.\n",
        "- But we will work through many examples of how networks are implemented in this library. To understand this, it's helpful to start with working knowledge of a few key concepts.\n",
        "\n",
        "More info about PyTorch and related tutorials can be found here:\n",
        "https://docs.pytorch.org/tutorials/beginner/basics/intro.html\n"
      ],
      "metadata": {
        "id": "ZDHQTrBaaCnA"
      }
    },
    {
      "cell_type": "markdown",
      "source": [
        "### Tensors\n",
        "\n",
        "A tensor is a multi-dimensional array used in PyTorch. It's similar to a NumPy array in many ways. The key differences are that tensors are able to operate on GPUs, and are optimized for the math needed in neural network training (automatic differentiation).\n",
        "\n",
        "Think of tensors as:\n",
        "\n",
        "- 0D tensor = scalar (just a number)\n",
        "- 1D tensor = vector (list of numbers)\n",
        "- 2D tensor = matrix (table of numbers)  \n",
        "- 3D+ tensor = higher-dimensional arrays"
      ],
      "metadata": {
        "id": "cszw-dV_eNjw"
      }
    },
    {
      "cell_type": "markdown",
      "source": [
        "Let's practice creating and manipulating tensors:"
      ],
      "metadata": {
        "id": "Ttq3B93lg6eu"
      }
    },
    {
      "cell_type": "code",
      "source": [
        "import torch\n",
        "import numpy as np\n",
        "\n",
        "# Creating tensors from Python lists\n",
        "scalar_tensor = torch.tensor(5.0)\n",
        "vector_tensor = torch.tensor([1.0, 2.0, 3.0, 4.0])\n",
        "\n",
        "print(\"Scalar tensor:\", scalar_tensor)\n",
        "print(\"Vector tensor:\", vector_tensor)\n"
      ],
      "metadata": {
        "id": "HzRh2tbGa5Ca"
      },
      "execution_count": null,
      "outputs": []
    },
    {
      "cell_type": "code",
      "source": [
        "# Now create one from a NumPy array.\n",
        "matrix = np.array([[1, 2], [3, 4], [5, 6]])\n",
        "matrix_tensor = torch.tensor(matrix)\n",
        "\n",
        "print(\"Matrix tensor:\")\n",
        "print(matrix_tensor)\n",
        "\n",
        "# Get the tensor properties\n",
        "print(f\"\\nMatrix tensor shape: {matrix_tensor.shape}\")\n",
        "print(f\"Matrix tensor data type: {matrix_tensor.dtype}\")\n",
        "print(f\"Number of dimensions: {matrix_tensor.ndim}\")\n"
      ],
      "metadata": {
        "id": "euFqGX09gDmj"
      },
      "execution_count": null,
      "outputs": []
    },
    {
      "cell_type": "markdown",
      "source": [
        "Let's try some more tensor operations."
      ],
      "metadata": {
        "id": "tYKJWHadff7x"
      }
    },
    {
      "cell_type": "code",
      "source": [
        "# Create sample tensors\n",
        "a = torch.tensor([1.0, 2.0, 3.0])\n",
        "b = torch.tensor([4.0, 5.0, 6.0])\n",
        "\n",
        "# Element-wise operations\n",
        "addition = a + b\n",
        "subtraction = a - b\n",
        "multiplication = a * b\n",
        "division = a / b\n",
        "\n",
        "print(f\"a = {a}\")\n",
        "print(f\"b = {b}\")\n",
        "print(f\"a + b = {addition}\")\n",
        "print(f\"a - b = {subtraction}\")\n",
        "print(f\"a * b = {multiplication}\")\n",
        "print(f\"a / b = {division}\")\n",
        "\n",
        "# Matrix operations\n",
        "matrix_a = torch.tensor([[1.0, 2.0], [3.0, 4.0]])\n",
        "matrix_b = torch.tensor([[5.0, 6.0], [7.0, 8.0]])\n",
        "\n",
        "# Matrix multiplication\n",
        "matrix_mult = torch.matmul(matrix_a, matrix_b)\n",
        "# Alternative syntax: matrix_mult = matrix_a @ matrix_b\n",
        "\n",
        "print(f\"\\nMatrix A:\\n{matrix_a}\")\n",
        "print(f\"Matrix B:\\n{matrix_b}\")\n",
        "print(f\"Matrix multiplication A @ B:\\n{matrix_mult}\")"
      ],
      "metadata": {
        "id": "GuuJiQSzaBfJ"
      },
      "execution_count": null,
      "outputs": []
    },
    {
      "cell_type": "markdown",
      "source": [
        "### GPU acceleration"
      ],
      "metadata": {
        "id": "JN146RA5hADB"
      }
    },
    {
      "cell_type": "markdown",
      "source": [
        "\n",
        "PyTorch also has great capabilities for GPU support. This means that we can dramatically speed up model training and inference, by running the networks on a GPU (graphical processing unit, i.e. a powerful computing processor), as opposed to a CPU (a less powerful processor).\n",
        "\n",
        "Conveniently, Colab has built-in support that lets us connect to a GPU resource remotely, directly from our notebook.\n",
        "\n",
        "To use a GPU:\n",
        "\n",
        "- In the upper right corner, click the down-arrow to bring up a menu, and select \"Change Runtime Type\".\n",
        "- Pick \"T4-GPU\"\n",
        "- Note that this will start over your whole notebook session, your memory will be wiped.\n",
        "\n",
        "Let's check that this worked..."
      ],
      "metadata": {
        "id": "jjXmUyeHc0Kh"
      }
    },
    {
      "cell_type": "code",
      "source": [
        "import torch\n",
        "\n",
        "# Check if CUDA (GPU) is available - this will speed up training significantly\n",
        "# If it says \"cpu\", use the menu at top right to select: \"change runtime type\"\n",
        "# Then choose: T4 GPU\n",
        "\n",
        "device = torch.device('cuda' if torch.cuda.is_available() else 'cpu')\n",
        "print(f'Using device: {device}')\n",
        "if torch.cuda.is_available():\n",
        "    print(f'GPU: {torch.cuda.get_device_name(0)}')\n"
      ],
      "metadata": {
        "id": "VHdW1BTgdVHn"
      },
      "execution_count": null,
      "outputs": []
    },
    {
      "cell_type": "code",
      "source": [
        "# Create a tensor and move it to GPU (if available)\n",
        "cpu_tensor = torch.tensor([1.0, 2.0, 3.0])\n",
        "print(f\"CPU tensor: {cpu_tensor}\")\n",
        "print(f\"Device: {cpu_tensor.device}\")\n",
        "\n",
        "# Move tensor to my device\n",
        "gpu_tensor = cpu_tensor.to(device)\n",
        "\n",
        "print(f\"GPU tensor: {gpu_tensor}\")\n",
        "print(f\"Device: {gpu_tensor.device}\")\n"
      ],
      "metadata": {
        "id": "mua5xqX3digp"
      },
      "execution_count": null,
      "outputs": []
    },
    {
      "cell_type": "markdown",
      "source": [
        "\n",
        "\n",
        "---\n",
        "\n",
        "***Question 3:***\n",
        "\n",
        "Write and execute code to compute the following expression, using PyTorch operations on a GPU. Print out the resulting tensor.\n",
        "\n",
        "$$\\begin{bmatrix}\n",
        "7 & 14 & 2 \\\\\n",
        "9 & 6 & 11\n",
        "\\end{bmatrix} + \\begin{bmatrix}\n",
        "3 & 8 & 15 \\\\\n",
        "12 & 4 & 10\n",
        "\\end{bmatrix} = $$"
      ],
      "metadata": {
        "id": "gQNEyQKOhjW1"
      }
    },
    {
      "cell_type": "code",
      "source": [
        "# your answer here"
      ],
      "metadata": {
        "id": "L5dRwDFmif4D"
      },
      "execution_count": null,
      "outputs": []
    },
    {
      "cell_type": "markdown",
      "source": [
        "\n",
        "\n",
        "---\n",
        "\n"
      ],
      "metadata": {
        "id": "MKeprFdRijFB"
      }
    },
    {
      "cell_type": "markdown",
      "source": [
        "\n",
        "\n",
        "---\n",
        "\n",
        "***Question 4:***\n",
        "\n",
        "Write and execute code to compute the following expression, using PyTorch operations on a GPU. Print out the resulting tensor.\n",
        "\n",
        "$$\\begin{bmatrix}\n",
        "9 & 1 & 12 \\\\\n",
        "3 & 16 & 2\n",
        "\\end{bmatrix} \\cdot \\begin{bmatrix}\n",
        "4 & 7 \\\\\n",
        "12 & 14 \\\\\n",
        "1 & 3\n",
        "\\end{bmatrix} = $$\n",
        "\n",
        "Hint: $\\cdot$ is matrix multiplication."
      ],
      "metadata": {
        "id": "p6xW4hNniuhg"
      }
    },
    {
      "cell_type": "code",
      "source": [
        "# your answer here"
      ],
      "metadata": {
        "id": "H5wJdqFuiuhh"
      },
      "execution_count": null,
      "outputs": []
    },
    {
      "cell_type": "markdown",
      "source": [
        "Note - if you're feeling uncertain about matrix multiplication or vectors, this is a nice intro video series:\n",
        "https://www.youtube.com/playlist?list=PLZHQObOWTQDPD3MizzM2xVFitgF8hE_ab"
      ],
      "metadata": {
        "id": "tPm_1i0XdRhS"
      }
    },
    {
      "cell_type": "markdown",
      "source": [
        "\n",
        "\n",
        "---\n",
        "\n"
      ],
      "metadata": {
        "id": "paRyo-6aiuhi"
      }
    },
    {
      "cell_type": "markdown",
      "source": [
        "That's all for now - we'll cover more basics of PyTorch in the next lab!"
      ],
      "metadata": {
        "id": "CUTWa_FZhVYX"
      }
    }
  ],
  "metadata": {
    "kernelspec": {
      "display_name": "Python 3",
      "name": "python3"
    },
    "language_info": {
      "codemirror_mode": {
        "name": "ipython",
        "version": 3
      },
      "file_extension": ".py",
      "mimetype": "text/x-python",
      "name": "python",
      "nbconvert_exporter": "python",
      "pygments_lexer": "ipython3",
      "version": "3.8.8"
    },
    "colab": {
      "provenance": [],
      "toc_visible": true,
      "gpuType": "T4",
      "include_colab_link": true
    },
    "accelerator": "GPU"
  },
  "nbformat": 4,
  "nbformat_minor": 0
}